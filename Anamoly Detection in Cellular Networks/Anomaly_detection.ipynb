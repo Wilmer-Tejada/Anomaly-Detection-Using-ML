{
 "cells": [
  {
   "cell_type": "markdown",
   "id": "6c00cad9",
   "metadata": {},
   "source": [
    "# Importing Necessary Packages"
   ]
  },
  {
   "cell_type": "code",
   "execution_count": 1,
   "id": "b8443f1f",
   "metadata": {},
   "outputs": [],
   "source": [
    "# importing packages\n",
    "import pandas as pd # data processing\n",
    "import numpy as np # working with arrays\n",
    "import matplotlib.pyplot as plt # visualization\n",
    "from termcolor import colored as cl # text customization\n",
    "import itertools # advanced tools\n",
    "import seaborn as sns\n",
    "\n",
    "from sklearn.preprocessing import StandardScaler # data normalization\n",
    "from sklearn.model_selection import train_test_split # data split\n",
    "from sklearn.tree import DecisionTreeClassifier # Decision tree algorithm\n",
    "from sklearn.neighbors import KNeighborsClassifier # KNN algorithm\n",
    "from sklearn.linear_model import LogisticRegression # Logistic regression algorithm\n",
    "from sklearn.svm import SVC # SVM algorithm\n",
    "from sklearn.ensemble import RandomForestClassifier # Random forest tree algorithm\n",
    "from xgboost import XGBClassifier # XGBoost algorithm\n",
    "from sklearn.preprocessing import LabelEncoder # label encoding\n",
    "\n",
    "from sklearn.metrics import confusion_matrix # evaluation metric\n",
    "from sklearn.metrics import accuracy_score # evaluation metric\n",
    "from sklearn.metrics import f1_score # evaluation metric\n",
    "from sklearn.metrics import precision_score # evaluation metric\n",
    "from sklearn.metrics import recall_score # evaluation metric"
   ]
  },
  {
   "cell_type": "markdown",
   "id": "01c8e983",
   "metadata": {},
   "source": [
    "# Importing Data"
   ]
  },
  {
   "cell_type": "markdown",
   "id": "77440af2",
   "metadata": {},
   "source": [
    "This dataset was gethered from Kaggle:\n",
    "https://www.kaggle.com/c/anomaly-detection-in-cellular-networks/data"
   ]
  },
  {
   "cell_type": "code",
   "execution_count": 2,
   "id": "282a32a9",
   "metadata": {},
   "outputs": [
    {
     "data": {
      "text/plain": [
       "(36904, 14)"
      ]
     },
     "execution_count": 2,
     "metadata": {},
     "output_type": "execute_result"
    }
   ],
   "source": [
    "df = pd.read_csv(\"data/ML-MATT-CompetitionQT1920_train.csv\",encoding='iso-8859-1')\n",
    "df.shape"
   ]
  },
  {
   "cell_type": "markdown",
   "id": "18db12d4",
   "metadata": {},
   "source": [
    "Let's make sure we do not have duplicates to maintain accuracy."
   ]
  },
  {
   "cell_type": "code",
   "execution_count": 3,
   "id": "acefd894",
   "metadata": {},
   "outputs": [
    {
     "data": {
      "text/plain": [
       "(36798, 14)"
      ]
     },
     "execution_count": 3,
     "metadata": {},
     "output_type": "execute_result"
    }
   ],
   "source": [
    "df = df.drop_duplicates()\n",
    "df.shape\n",
    "# dropped about 100 duplicates"
   ]
  },
  {
   "cell_type": "code",
   "execution_count": 4,
   "id": "6cbce235",
   "metadata": {},
   "outputs": [
    {
     "data": {
      "text/html": [
       "<div>\n",
       "<style scoped>\n",
       "    .dataframe tbody tr th:only-of-type {\n",
       "        vertical-align: middle;\n",
       "    }\n",
       "\n",
       "    .dataframe tbody tr th {\n",
       "        vertical-align: top;\n",
       "    }\n",
       "\n",
       "    .dataframe thead th {\n",
       "        text-align: right;\n",
       "    }\n",
       "</style>\n",
       "<table border=\"1\" class=\"dataframe\">\n",
       "  <thead>\n",
       "    <tr style=\"text-align: right;\">\n",
       "      <th></th>\n",
       "      <th>Time</th>\n",
       "      <th>CellName</th>\n",
       "      <th>PRBUsageUL</th>\n",
       "      <th>PRBUsageDL</th>\n",
       "      <th>meanThr_DL</th>\n",
       "      <th>meanThr_UL</th>\n",
       "      <th>maxThr_DL</th>\n",
       "      <th>maxThr_UL</th>\n",
       "      <th>meanUE_DL</th>\n",
       "      <th>meanUE_UL</th>\n",
       "      <th>maxUE_DL</th>\n",
       "      <th>maxUE_UL</th>\n",
       "      <th>maxUE_UL+DL</th>\n",
       "      <th>Unusual</th>\n",
       "    </tr>\n",
       "  </thead>\n",
       "  <tbody>\n",
       "    <tr>\n",
       "      <th>0</th>\n",
       "      <td>10:45</td>\n",
       "      <td>3BLTE</td>\n",
       "      <td>11.642</td>\n",
       "      <td>1.393</td>\n",
       "      <td>0.370</td>\n",
       "      <td>0.041</td>\n",
       "      <td>15.655</td>\n",
       "      <td>0.644</td>\n",
       "      <td>1.114</td>\n",
       "      <td>1.025</td>\n",
       "      <td>4.0</td>\n",
       "      <td>3.0</td>\n",
       "      <td>7</td>\n",
       "      <td>1</td>\n",
       "    </tr>\n",
       "    <tr>\n",
       "      <th>1</th>\n",
       "      <td>9:45</td>\n",
       "      <td>1BLTE</td>\n",
       "      <td>21.791</td>\n",
       "      <td>1.891</td>\n",
       "      <td>0.537</td>\n",
       "      <td>0.268</td>\n",
       "      <td>10.273</td>\n",
       "      <td>1.154</td>\n",
       "      <td>1.353</td>\n",
       "      <td>1.085</td>\n",
       "      <td>6.0</td>\n",
       "      <td>4.0</td>\n",
       "      <td>10</td>\n",
       "      <td>1</td>\n",
       "    </tr>\n",
       "    <tr>\n",
       "      <th>2</th>\n",
       "      <td>7:45</td>\n",
       "      <td>9BLTE</td>\n",
       "      <td>0.498</td>\n",
       "      <td>0.398</td>\n",
       "      <td>0.015</td>\n",
       "      <td>0.010</td>\n",
       "      <td>0.262</td>\n",
       "      <td>0.164</td>\n",
       "      <td>0.995</td>\n",
       "      <td>0.995</td>\n",
       "      <td>1.0</td>\n",
       "      <td>1.0</td>\n",
       "      <td>2</td>\n",
       "      <td>1</td>\n",
       "    </tr>\n",
       "    <tr>\n",
       "      <th>3</th>\n",
       "      <td>2:45</td>\n",
       "      <td>4ALTE</td>\n",
       "      <td>1.891</td>\n",
       "      <td>1.095</td>\n",
       "      <td>0.940</td>\n",
       "      <td>0.024</td>\n",
       "      <td>60.715</td>\n",
       "      <td>0.825</td>\n",
       "      <td>1.035</td>\n",
       "      <td>0.995</td>\n",
       "      <td>2.0</td>\n",
       "      <td>2.0</td>\n",
       "      <td>4</td>\n",
       "      <td>1</td>\n",
       "    </tr>\n",
       "    <tr>\n",
       "      <th>4</th>\n",
       "      <td>3:30</td>\n",
       "      <td>10BLTE</td>\n",
       "      <td>0.303</td>\n",
       "      <td>0.404</td>\n",
       "      <td>0.016</td>\n",
       "      <td>0.013</td>\n",
       "      <td>0.348</td>\n",
       "      <td>0.168</td>\n",
       "      <td>1.011</td>\n",
       "      <td>1.011</td>\n",
       "      <td>2.0</td>\n",
       "      <td>1.0</td>\n",
       "      <td>3</td>\n",
       "      <td>0</td>\n",
       "    </tr>\n",
       "  </tbody>\n",
       "</table>\n",
       "</div>"
      ],
      "text/plain": [
       "    Time CellName  PRBUsageUL  PRBUsageDL  meanThr_DL  meanThr_UL  maxThr_DL  \\\n",
       "0  10:45    3BLTE      11.642       1.393       0.370       0.041     15.655   \n",
       "1   9:45    1BLTE      21.791       1.891       0.537       0.268     10.273   \n",
       "2   7:45    9BLTE       0.498       0.398       0.015       0.010      0.262   \n",
       "3   2:45    4ALTE       1.891       1.095       0.940       0.024     60.715   \n",
       "4   3:30   10BLTE       0.303       0.404       0.016       0.013      0.348   \n",
       "\n",
       "   maxThr_UL  meanUE_DL  meanUE_UL  maxUE_DL  maxUE_UL maxUE_UL+DL  Unusual  \n",
       "0      0.644      1.114      1.025       4.0       3.0           7        1  \n",
       "1      1.154      1.353      1.085       6.0       4.0          10        1  \n",
       "2      0.164      0.995      0.995       1.0       1.0           2        1  \n",
       "3      0.825      1.035      0.995       2.0       2.0           4        1  \n",
       "4      0.168      1.011      1.011       2.0       1.0           3        0  "
      ]
     },
     "execution_count": 4,
     "metadata": {},
     "output_type": "execute_result"
    }
   ],
   "source": [
    "df.head(5)"
   ]
  },
  {
   "cell_type": "markdown",
   "id": "bb6cd53c",
   "metadata": {},
   "source": [
    "Nothing looks out of the ordinary at first glance."
   ]
  },
  {
   "cell_type": "code",
   "execution_count": null,
   "id": "2ab4db52",
   "metadata": {},
   "outputs": [],
   "source": []
  },
  {
   "cell_type": "markdown",
   "id": "b949f6de",
   "metadata": {},
   "source": [
    "# Cleaning Data"
   ]
  },
  {
   "cell_type": "markdown",
   "id": "55cf1fd8",
   "metadata": {},
   "source": [
    "First lets make sure that we imported all the columns in correctly. "
   ]
  },
  {
   "cell_type": "code",
   "execution_count": 5,
   "id": "854df334",
   "metadata": {},
   "outputs": [
    {
     "data": {
      "text/plain": [
       "Time            object\n",
       "CellName        object\n",
       "PRBUsageUL     float64\n",
       "PRBUsageDL     float64\n",
       "meanThr_DL     float64\n",
       "meanThr_UL     float64\n",
       "maxThr_DL      float64\n",
       "maxThr_UL      float64\n",
       "meanUE_DL      float64\n",
       "meanUE_UL      float64\n",
       "maxUE_DL       float64\n",
       "maxUE_UL       float64\n",
       "maxUE_UL+DL     object\n",
       "Unusual          int64\n",
       "dtype: object"
      ]
     },
     "execution_count": 5,
     "metadata": {},
     "output_type": "execute_result"
    }
   ],
   "source": [
    "df.dtypes"
   ]
  },
  {
   "cell_type": "markdown",
   "id": "058104b7",
   "metadata": {},
   "source": [
    "It looks like all of the data types are correct except for the 'maxUE_UL+DL' column. It should be a float64 object so lets investigate that further. "
   ]
  },
  {
   "cell_type": "markdown",
   "id": "b88ffdcf",
   "metadata": {},
   "source": [
    "### Fix df[\"maxUE_UL+DL\"]"
   ]
  },
  {
   "cell_type": "code",
   "execution_count": 6,
   "id": "b447ed21",
   "metadata": {},
   "outputs": [
    {
     "data": {
      "text/plain": [
       "array(['7', '10', '2', '4', '3', '11', '6', '8', '5', '9', '12',\n",
       "       '#¡VALOR!', '14', '17', '0', '13', '15', '16', '18', '19', '1',\n",
       "       '20', '23', nan, '21'], dtype=object)"
      ]
     },
     "execution_count": 6,
     "metadata": {},
     "output_type": "execute_result"
    }
   ],
   "source": [
    "df[\"maxUE_UL+DL\"].unique()"
   ]
  },
  {
   "cell_type": "markdown",
   "id": "388b2281",
   "metadata": {},
   "source": [
    "By looking at all the unique values in this column we see an unwanted value of #¡VALOR! which is what is coercing this numerical value into an object data type. Lets see what is happening by looking at some of the rows with this value. "
   ]
  },
  {
   "cell_type": "code",
   "execution_count": 7,
   "id": "72f3aa81",
   "metadata": {},
   "outputs": [
    {
     "data": {
      "text/plain": [
       "(84, 14)"
      ]
     },
     "execution_count": 7,
     "metadata": {},
     "output_type": "execute_result"
    }
   ],
   "source": [
    "issue_values = df[df[\"maxUE_UL+DL\"] == '#¡VALOR!']\n",
    "issue_values.shape"
   ]
  },
  {
   "cell_type": "code",
   "execution_count": 8,
   "id": "3820071a",
   "metadata": {},
   "outputs": [
    {
     "data": {
      "text/html": [
       "<div>\n",
       "<style scoped>\n",
       "    .dataframe tbody tr th:only-of-type {\n",
       "        vertical-align: middle;\n",
       "    }\n",
       "\n",
       "    .dataframe tbody tr th {\n",
       "        vertical-align: top;\n",
       "    }\n",
       "\n",
       "    .dataframe thead th {\n",
       "        text-align: right;\n",
       "    }\n",
       "</style>\n",
       "<table border=\"1\" class=\"dataframe\">\n",
       "  <thead>\n",
       "    <tr style=\"text-align: right;\">\n",
       "      <th></th>\n",
       "      <th>Time</th>\n",
       "      <th>CellName</th>\n",
       "      <th>PRBUsageUL</th>\n",
       "      <th>PRBUsageDL</th>\n",
       "      <th>meanThr_DL</th>\n",
       "      <th>meanThr_UL</th>\n",
       "      <th>maxThr_DL</th>\n",
       "      <th>maxThr_UL</th>\n",
       "      <th>meanUE_DL</th>\n",
       "      <th>meanUE_UL</th>\n",
       "      <th>maxUE_DL</th>\n",
       "      <th>maxUE_UL</th>\n",
       "      <th>maxUE_UL+DL</th>\n",
       "      <th>Unusual</th>\n",
       "    </tr>\n",
       "  </thead>\n",
       "  <tbody>\n",
       "    <tr>\n",
       "      <th>51</th>\n",
       "      <td>16:15</td>\n",
       "      <td>6ALTE</td>\n",
       "      <td>13.743</td>\n",
       "      <td>4.042</td>\n",
       "      <td>2.113</td>\n",
       "      <td>0.100</td>\n",
       "      <td>44.483</td>\n",
       "      <td>1.110</td>\n",
       "      <td>0.0</td>\n",
       "      <td>0.0</td>\n",
       "      <td>NaN</td>\n",
       "      <td>NaN</td>\n",
       "      <td>#¡VALOR!</td>\n",
       "      <td>0</td>\n",
       "    </tr>\n",
       "    <tr>\n",
       "      <th>1290</th>\n",
       "      <td>14:30</td>\n",
       "      <td>3BLTE</td>\n",
       "      <td>22.837</td>\n",
       "      <td>2.324</td>\n",
       "      <td>0.500</td>\n",
       "      <td>0.090</td>\n",
       "      <td>24.374</td>\n",
       "      <td>0.847</td>\n",
       "      <td>0.0</td>\n",
       "      <td>0.0</td>\n",
       "      <td>NaN</td>\n",
       "      <td>NaN</td>\n",
       "      <td>#¡VALOR!</td>\n",
       "      <td>0</td>\n",
       "    </tr>\n",
       "    <tr>\n",
       "      <th>2082</th>\n",
       "      <td>6:15</td>\n",
       "      <td>7ULTE</td>\n",
       "      <td>0.199</td>\n",
       "      <td>1.791</td>\n",
       "      <td>0.693</td>\n",
       "      <td>0.032</td>\n",
       "      <td>15.634</td>\n",
       "      <td>0.353</td>\n",
       "      <td>0.0</td>\n",
       "      <td>0.0</td>\n",
       "      <td>NaN</td>\n",
       "      <td>NaN</td>\n",
       "      <td>#¡VALOR!</td>\n",
       "      <td>1</td>\n",
       "    </tr>\n",
       "    <tr>\n",
       "      <th>2842</th>\n",
       "      <td>16:15</td>\n",
       "      <td>5ALTE</td>\n",
       "      <td>9.903</td>\n",
       "      <td>1.516</td>\n",
       "      <td>0.466</td>\n",
       "      <td>0.032</td>\n",
       "      <td>24.576</td>\n",
       "      <td>0.931</td>\n",
       "      <td>0.0</td>\n",
       "      <td>0.0</td>\n",
       "      <td>NaN</td>\n",
       "      <td>NaN</td>\n",
       "      <td>#¡VALOR!</td>\n",
       "      <td>0</td>\n",
       "    </tr>\n",
       "    <tr>\n",
       "      <th>3384</th>\n",
       "      <td>16:15</td>\n",
       "      <td>7CLTE</td>\n",
       "      <td>0.404</td>\n",
       "      <td>0.909</td>\n",
       "      <td>0.216</td>\n",
       "      <td>0.042</td>\n",
       "      <td>9.730</td>\n",
       "      <td>2.714</td>\n",
       "      <td>0.0</td>\n",
       "      <td>0.0</td>\n",
       "      <td>NaN</td>\n",
       "      <td>NaN</td>\n",
       "      <td>#¡VALOR!</td>\n",
       "      <td>0</td>\n",
       "    </tr>\n",
       "    <tr>\n",
       "      <th>3982</th>\n",
       "      <td>14:15</td>\n",
       "      <td>7VLTE</td>\n",
       "      <td>2.627</td>\n",
       "      <td>4.446</td>\n",
       "      <td>0.693</td>\n",
       "      <td>0.080</td>\n",
       "      <td>15.266</td>\n",
       "      <td>0.640</td>\n",
       "      <td>0.0</td>\n",
       "      <td>0.0</td>\n",
       "      <td>NaN</td>\n",
       "      <td>NaN</td>\n",
       "      <td>#¡VALOR!</td>\n",
       "      <td>0</td>\n",
       "    </tr>\n",
       "    <tr>\n",
       "      <th>5089</th>\n",
       "      <td>13:00</td>\n",
       "      <td>6ULTE</td>\n",
       "      <td>2.930</td>\n",
       "      <td>4.244</td>\n",
       "      <td>0.939</td>\n",
       "      <td>0.094</td>\n",
       "      <td>24.215</td>\n",
       "      <td>0.965</td>\n",
       "      <td>0.0</td>\n",
       "      <td>0.0</td>\n",
       "      <td>NaN</td>\n",
       "      <td>NaN</td>\n",
       "      <td>#¡VALOR!</td>\n",
       "      <td>0</td>\n",
       "    </tr>\n",
       "    <tr>\n",
       "      <th>5172</th>\n",
       "      <td>5:15</td>\n",
       "      <td>5ALTE</td>\n",
       "      <td>0.909</td>\n",
       "      <td>0.505</td>\n",
       "      <td>0.265</td>\n",
       "      <td>0.025</td>\n",
       "      <td>9.011</td>\n",
       "      <td>0.358</td>\n",
       "      <td>0.0</td>\n",
       "      <td>0.0</td>\n",
       "      <td>NaN</td>\n",
       "      <td>NaN</td>\n",
       "      <td>#¡VALOR!</td>\n",
       "      <td>0</td>\n",
       "    </tr>\n",
       "    <tr>\n",
       "      <th>5190</th>\n",
       "      <td>17:00</td>\n",
       "      <td>7WLTE</td>\n",
       "      <td>2.223</td>\n",
       "      <td>4.143</td>\n",
       "      <td>0.673</td>\n",
       "      <td>0.070</td>\n",
       "      <td>23.069</td>\n",
       "      <td>0.618</td>\n",
       "      <td>0.0</td>\n",
       "      <td>0.0</td>\n",
       "      <td>NaN</td>\n",
       "      <td>NaN</td>\n",
       "      <td>#¡VALOR!</td>\n",
       "      <td>0</td>\n",
       "    </tr>\n",
       "    <tr>\n",
       "      <th>5348</th>\n",
       "      <td>14:30</td>\n",
       "      <td>1ALTE</td>\n",
       "      <td>25.364</td>\n",
       "      <td>2.324</td>\n",
       "      <td>0.737</td>\n",
       "      <td>0.113</td>\n",
       "      <td>23.183</td>\n",
       "      <td>1.430</td>\n",
       "      <td>0.0</td>\n",
       "      <td>0.0</td>\n",
       "      <td>NaN</td>\n",
       "      <td>NaN</td>\n",
       "      <td>#¡VALOR!</td>\n",
       "      <td>0</td>\n",
       "    </tr>\n",
       "    <tr>\n",
       "      <th>5479</th>\n",
       "      <td>13:00</td>\n",
       "      <td>10ALTE</td>\n",
       "      <td>20.109</td>\n",
       "      <td>2.829</td>\n",
       "      <td>0.779</td>\n",
       "      <td>0.098</td>\n",
       "      <td>19.484</td>\n",
       "      <td>0.986</td>\n",
       "      <td>0.0</td>\n",
       "      <td>0.0</td>\n",
       "      <td>NaN</td>\n",
       "      <td>NaN</td>\n",
       "      <td>#¡VALOR!</td>\n",
       "      <td>0</td>\n",
       "    </tr>\n",
       "    <tr>\n",
       "      <th>6538</th>\n",
       "      <td>6:15</td>\n",
       "      <td>7BLTE</td>\n",
       "      <td>0.199</td>\n",
       "      <td>0.796</td>\n",
       "      <td>0.191</td>\n",
       "      <td>0.032</td>\n",
       "      <td>14.254</td>\n",
       "      <td>1.217</td>\n",
       "      <td>0.0</td>\n",
       "      <td>0.0</td>\n",
       "      <td>NaN</td>\n",
       "      <td>NaN</td>\n",
       "      <td>#¡VALOR!</td>\n",
       "      <td>1</td>\n",
       "    </tr>\n",
       "    <tr>\n",
       "      <th>7141</th>\n",
       "      <td>6:15</td>\n",
       "      <td>9ALTE</td>\n",
       "      <td>0.498</td>\n",
       "      <td>0.398</td>\n",
       "      <td>0.045</td>\n",
       "      <td>0.011</td>\n",
       "      <td>0.634</td>\n",
       "      <td>0.124</td>\n",
       "      <td>0.0</td>\n",
       "      <td>0.0</td>\n",
       "      <td>NaN</td>\n",
       "      <td>NaN</td>\n",
       "      <td>#¡VALOR!</td>\n",
       "      <td>1</td>\n",
       "    </tr>\n",
       "    <tr>\n",
       "      <th>7328</th>\n",
       "      <td>8:00</td>\n",
       "      <td>7WLTE</td>\n",
       "      <td>0.707</td>\n",
       "      <td>2.223</td>\n",
       "      <td>0.649</td>\n",
       "      <td>0.039</td>\n",
       "      <td>29.168</td>\n",
       "      <td>0.637</td>\n",
       "      <td>0.0</td>\n",
       "      <td>0.0</td>\n",
       "      <td>NaN</td>\n",
       "      <td>NaN</td>\n",
       "      <td>#¡VALOR!</td>\n",
       "      <td>0</td>\n",
       "    </tr>\n",
       "    <tr>\n",
       "      <th>7502</th>\n",
       "      <td>16:45</td>\n",
       "      <td>5BLTE</td>\n",
       "      <td>20.917</td>\n",
       "      <td>1.819</td>\n",
       "      <td>0.527</td>\n",
       "      <td>0.064</td>\n",
       "      <td>11.204</td>\n",
       "      <td>0.770</td>\n",
       "      <td>0.0</td>\n",
       "      <td>0.0</td>\n",
       "      <td>NaN</td>\n",
       "      <td>NaN</td>\n",
       "      <td>#¡VALOR!</td>\n",
       "      <td>0</td>\n",
       "    </tr>\n",
       "    <tr>\n",
       "      <th>7612</th>\n",
       "      <td>16:15</td>\n",
       "      <td>3ALTE</td>\n",
       "      <td>20.513</td>\n",
       "      <td>3.032</td>\n",
       "      <td>0.539</td>\n",
       "      <td>0.092</td>\n",
       "      <td>10.645</td>\n",
       "      <td>0.691</td>\n",
       "      <td>0.0</td>\n",
       "      <td>0.0</td>\n",
       "      <td>NaN</td>\n",
       "      <td>NaN</td>\n",
       "      <td>#¡VALOR!</td>\n",
       "      <td>0</td>\n",
       "    </tr>\n",
       "    <tr>\n",
       "      <th>7718</th>\n",
       "      <td>6:15</td>\n",
       "      <td>7WLTE</td>\n",
       "      <td>0.299</td>\n",
       "      <td>0.896</td>\n",
       "      <td>0.086</td>\n",
       "      <td>0.014</td>\n",
       "      <td>2.212</td>\n",
       "      <td>0.202</td>\n",
       "      <td>0.0</td>\n",
       "      <td>0.0</td>\n",
       "      <td>NaN</td>\n",
       "      <td>NaN</td>\n",
       "      <td>#¡VALOR!</td>\n",
       "      <td>1</td>\n",
       "    </tr>\n",
       "    <tr>\n",
       "      <th>7759</th>\n",
       "      <td>14:30</td>\n",
       "      <td>3CLTE</td>\n",
       "      <td>12.631</td>\n",
       "      <td>1.718</td>\n",
       "      <td>0.597</td>\n",
       "      <td>0.065</td>\n",
       "      <td>36.534</td>\n",
       "      <td>2.085</td>\n",
       "      <td>0.0</td>\n",
       "      <td>0.0</td>\n",
       "      <td>NaN</td>\n",
       "      <td>NaN</td>\n",
       "      <td>#¡VALOR!</td>\n",
       "      <td>0</td>\n",
       "    </tr>\n",
       "    <tr>\n",
       "      <th>8814</th>\n",
       "      <td>17:00</td>\n",
       "      <td>7ULTE</td>\n",
       "      <td>4.446</td>\n",
       "      <td>9.600</td>\n",
       "      <td>1.153</td>\n",
       "      <td>0.107</td>\n",
       "      <td>25.413</td>\n",
       "      <td>1.673</td>\n",
       "      <td>0.0</td>\n",
       "      <td>0.0</td>\n",
       "      <td>NaN</td>\n",
       "      <td>NaN</td>\n",
       "      <td>#¡VALOR!</td>\n",
       "      <td>0</td>\n",
       "    </tr>\n",
       "    <tr>\n",
       "      <th>9146</th>\n",
       "      <td>16:15</td>\n",
       "      <td>7VLTE</td>\n",
       "      <td>1.617</td>\n",
       "      <td>2.728</td>\n",
       "      <td>0.246</td>\n",
       "      <td>0.041</td>\n",
       "      <td>7.377</td>\n",
       "      <td>0.511</td>\n",
       "      <td>0.0</td>\n",
       "      <td>0.0</td>\n",
       "      <td>NaN</td>\n",
       "      <td>NaN</td>\n",
       "      <td>#¡VALOR!</td>\n",
       "      <td>0</td>\n",
       "    </tr>\n",
       "  </tbody>\n",
       "</table>\n",
       "</div>"
      ],
      "text/plain": [
       "       Time CellName  PRBUsageUL  PRBUsageDL  meanThr_DL  meanThr_UL  \\\n",
       "51    16:15    6ALTE      13.743       4.042       2.113       0.100   \n",
       "1290  14:30    3BLTE      22.837       2.324       0.500       0.090   \n",
       "2082   6:15    7ULTE       0.199       1.791       0.693       0.032   \n",
       "2842  16:15    5ALTE       9.903       1.516       0.466       0.032   \n",
       "3384  16:15    7CLTE       0.404       0.909       0.216       0.042   \n",
       "3982  14:15    7VLTE       2.627       4.446       0.693       0.080   \n",
       "5089  13:00    6ULTE       2.930       4.244       0.939       0.094   \n",
       "5172   5:15    5ALTE       0.909       0.505       0.265       0.025   \n",
       "5190  17:00    7WLTE       2.223       4.143       0.673       0.070   \n",
       "5348  14:30    1ALTE      25.364       2.324       0.737       0.113   \n",
       "5479  13:00   10ALTE      20.109       2.829       0.779       0.098   \n",
       "6538   6:15    7BLTE       0.199       0.796       0.191       0.032   \n",
       "7141   6:15    9ALTE       0.498       0.398       0.045       0.011   \n",
       "7328   8:00    7WLTE       0.707       2.223       0.649       0.039   \n",
       "7502  16:45    5BLTE      20.917       1.819       0.527       0.064   \n",
       "7612  16:15    3ALTE      20.513       3.032       0.539       0.092   \n",
       "7718   6:15    7WLTE       0.299       0.896       0.086       0.014   \n",
       "7759  14:30    3CLTE      12.631       1.718       0.597       0.065   \n",
       "8814  17:00    7ULTE       4.446       9.600       1.153       0.107   \n",
       "9146  16:15    7VLTE       1.617       2.728       0.246       0.041   \n",
       "\n",
       "      maxThr_DL  maxThr_UL  meanUE_DL  meanUE_UL  maxUE_DL  maxUE_UL  \\\n",
       "51       44.483      1.110        0.0        0.0       NaN       NaN   \n",
       "1290     24.374      0.847        0.0        0.0       NaN       NaN   \n",
       "2082     15.634      0.353        0.0        0.0       NaN       NaN   \n",
       "2842     24.576      0.931        0.0        0.0       NaN       NaN   \n",
       "3384      9.730      2.714        0.0        0.0       NaN       NaN   \n",
       "3982     15.266      0.640        0.0        0.0       NaN       NaN   \n",
       "5089     24.215      0.965        0.0        0.0       NaN       NaN   \n",
       "5172      9.011      0.358        0.0        0.0       NaN       NaN   \n",
       "5190     23.069      0.618        0.0        0.0       NaN       NaN   \n",
       "5348     23.183      1.430        0.0        0.0       NaN       NaN   \n",
       "5479     19.484      0.986        0.0        0.0       NaN       NaN   \n",
       "6538     14.254      1.217        0.0        0.0       NaN       NaN   \n",
       "7141      0.634      0.124        0.0        0.0       NaN       NaN   \n",
       "7328     29.168      0.637        0.0        0.0       NaN       NaN   \n",
       "7502     11.204      0.770        0.0        0.0       NaN       NaN   \n",
       "7612     10.645      0.691        0.0        0.0       NaN       NaN   \n",
       "7718      2.212      0.202        0.0        0.0       NaN       NaN   \n",
       "7759     36.534      2.085        0.0        0.0       NaN       NaN   \n",
       "8814     25.413      1.673        0.0        0.0       NaN       NaN   \n",
       "9146      7.377      0.511        0.0        0.0       NaN       NaN   \n",
       "\n",
       "     maxUE_UL+DL  Unusual  \n",
       "51      #¡VALOR!        0  \n",
       "1290    #¡VALOR!        0  \n",
       "2082    #¡VALOR!        1  \n",
       "2842    #¡VALOR!        0  \n",
       "3384    #¡VALOR!        0  \n",
       "3982    #¡VALOR!        0  \n",
       "5089    #¡VALOR!        0  \n",
       "5172    #¡VALOR!        0  \n",
       "5190    #¡VALOR!        0  \n",
       "5348    #¡VALOR!        0  \n",
       "5479    #¡VALOR!        0  \n",
       "6538    #¡VALOR!        1  \n",
       "7141    #¡VALOR!        1  \n",
       "7328    #¡VALOR!        0  \n",
       "7502    #¡VALOR!        0  \n",
       "7612    #¡VALOR!        0  \n",
       "7718    #¡VALOR!        1  \n",
       "7759    #¡VALOR!        0  \n",
       "8814    #¡VALOR!        0  \n",
       "9146    #¡VALOR!        0  "
      ]
     },
     "execution_count": 8,
     "metadata": {},
     "output_type": "execute_result"
    }
   ],
   "source": [
    "# 84 rows of this incorrect value.\n",
    "issue_values.head(20)\n",
    "# Looks like '#¡VALOR!' should be nan. "
   ]
  },
  {
   "cell_type": "markdown",
   "id": "da150118",
   "metadata": {},
   "source": [
    "Lets convert these incorrect values into nan."
   ]
  },
  {
   "cell_type": "code",
   "execution_count": 9,
   "id": "2175f437",
   "metadata": {},
   "outputs": [
    {
     "data": {
      "text/plain": [
       "array([ 7., 10.,  2.,  4.,  3., 11.,  6.,  8.,  5.,  9., 12., nan, 14.,\n",
       "       17.,  0., 13., 15., 16., 18., 19.,  1., 20., 23., 21.])"
      ]
     },
     "execution_count": 9,
     "metadata": {},
     "output_type": "execute_result"
    }
   ],
   "source": [
    "df[\"maxUE_UL+DL\"] = pd.to_numeric(df[\"maxUE_UL+DL\"], errors='coerce')\n",
    "df[\"maxUE_UL+DL\"].unique()"
   ]
  },
  {
   "cell_type": "markdown",
   "id": "1e4b0569",
   "metadata": {},
   "source": [
    "After fixing our datatypes, let's make sure that all of our data types are correct"
   ]
  },
  {
   "cell_type": "code",
   "execution_count": 10,
   "id": "a4065c24",
   "metadata": {},
   "outputs": [
    {
     "data": {
      "text/plain": [
       "Time            object\n",
       "CellName        object\n",
       "PRBUsageUL     float64\n",
       "PRBUsageDL     float64\n",
       "meanThr_DL     float64\n",
       "meanThr_UL     float64\n",
       "maxThr_DL      float64\n",
       "maxThr_UL      float64\n",
       "meanUE_DL      float64\n",
       "meanUE_UL      float64\n",
       "maxUE_DL       float64\n",
       "maxUE_UL       float64\n",
       "maxUE_UL+DL    float64\n",
       "Unusual          int64\n",
       "dtype: object"
      ]
     },
     "execution_count": 10,
     "metadata": {},
     "output_type": "execute_result"
    }
   ],
   "source": [
    " df.dtypes"
   ]
  },
  {
   "cell_type": "markdown",
   "id": "b622d211",
   "metadata": {},
   "source": [
    "Lets make all the columns numeric in order to feed the dataset through our algorithms. "
   ]
  },
  {
   "cell_type": "markdown",
   "id": "b6544ff6",
   "metadata": {},
   "source": [
    "# Correlation Matrix"
   ]
  },
  {
   "cell_type": "code",
   "execution_count": 11,
   "id": "d029147e",
   "metadata": {},
   "outputs": [
    {
     "data": {
      "image/png": "[encoded data removed]",
      "text/plain": [
       "<Figure size 720x720 with 2 Axes>"
      ]
     },
     "metadata": {
      "needs_background": "light"
     },
     "output_type": "display_data"
    }
   ],
   "source": [
    "\n",
    "def correlation_heatmap(train):\n",
    "    correlations = train.corr()\n",
    "\n",
    "    fig, ax = plt.subplots(figsize=(10,10))\n",
    "    sns.heatmap(correlations, vmax=1.0, center=0, fmt='.2f',\n",
    "                square=True, linewidths=.5, annot=True, cbar_kws={\"shrink\": .70})\n",
    "    plt.show();\n",
    "    \n",
    "correlation_heatmap(df)"
   ]
  },
  {
   "cell_type": "markdown",
   "id": "07a1fde4",
   "metadata": {},
   "source": [
    "#### We can see that none of the features columns have strong correlations with our target variable and because of this, linear models will struggle with accuracy. "
   ]
  },
  {
   "cell_type": "markdown",
   "id": "c17e9886",
   "metadata": {},
   "source": [
    "Lets look at some summary statistics to see if we have outliers"
   ]
  },
  {
   "cell_type": "code",
   "execution_count": 12,
   "id": "b258641e",
   "metadata": {},
   "outputs": [
    {
     "data": {
      "text/html": [
       "<div>\n",
       "<style scoped>\n",
       "    .dataframe tbody tr th:only-of-type {\n",
       "        vertical-align: middle;\n",
       "    }\n",
       "\n",
       "    .dataframe tbody tr th {\n",
       "        vertical-align: top;\n",
       "    }\n",
       "\n",
       "    .dataframe thead th {\n",
       "        text-align: right;\n",
       "    }\n",
       "</style>\n",
       "<table border=\"1\" class=\"dataframe\">\n",
       "  <thead>\n",
       "    <tr style=\"text-align: right;\">\n",
       "      <th></th>\n",
       "      <th>PRBUsageUL</th>\n",
       "      <th>PRBUsageDL</th>\n",
       "      <th>meanThr_DL</th>\n",
       "      <th>meanThr_UL</th>\n",
       "      <th>maxThr_DL</th>\n",
       "      <th>maxThr_UL</th>\n",
       "      <th>meanUE_DL</th>\n",
       "      <th>meanUE_UL</th>\n",
       "      <th>maxUE_DL</th>\n",
       "      <th>maxUE_UL</th>\n",
       "      <th>maxUE_UL+DL</th>\n",
       "      <th>Unusual</th>\n",
       "    </tr>\n",
       "  </thead>\n",
       "  <tbody>\n",
       "    <tr>\n",
       "      <th>count</th>\n",
       "      <td>36798.000000</td>\n",
       "      <td>36798.000000</td>\n",
       "      <td>36798.000000</td>\n",
       "      <td>36798.000000</td>\n",
       "      <td>36798.000000</td>\n",
       "      <td>36798.000000</td>\n",
       "      <td>36798.000000</td>\n",
       "      <td>36798.000000</td>\n",
       "      <td>36709.000000</td>\n",
       "      <td>36709.000000</td>\n",
       "      <td>36709.000000</td>\n",
       "      <td>36798.000000</td>\n",
       "    </tr>\n",
       "    <tr>\n",
       "      <th>mean</th>\n",
       "      <td>7.857659</td>\n",
       "      <td>2.111301</td>\n",
       "      <td>0.562139</td>\n",
       "      <td>0.067804</td>\n",
       "      <td>17.815541</td>\n",
       "      <td>1.797136</td>\n",
       "      <td>1.176601</td>\n",
       "      <td>0.667058</td>\n",
       "      <td>4.202702</td>\n",
       "      <td>3.072080</td>\n",
       "      <td>7.274783</td>\n",
       "      <td>0.276645</td>\n",
       "    </tr>\n",
       "    <tr>\n",
       "      <th>std</th>\n",
       "      <td>8.429824</td>\n",
       "      <td>2.248888</td>\n",
       "      <td>0.728047</td>\n",
       "      <td>0.186788</td>\n",
       "      <td>15.733641</td>\n",
       "      <td>5.035245</td>\n",
       "      <td>0.205603</td>\n",
       "      <td>0.535073</td>\n",
       "      <td>1.761114</td>\n",
       "      <td>1.379887</td>\n",
       "      <td>3.032807</td>\n",
       "      <td>0.447346</td>\n",
       "    </tr>\n",
       "    <tr>\n",
       "      <th>min</th>\n",
       "      <td>0.000000</td>\n",
       "      <td>0.000000</td>\n",
       "      <td>0.000000</td>\n",
       "      <td>0.000000</td>\n",
       "      <td>0.000000</td>\n",
       "      <td>0.000000</td>\n",
       "      <td>0.000000</td>\n",
       "      <td>0.000000</td>\n",
       "      <td>0.000000</td>\n",
       "      <td>0.000000</td>\n",
       "      <td>0.000000</td>\n",
       "      <td>0.000000</td>\n",
       "    </tr>\n",
       "    <tr>\n",
       "      <th>25%</th>\n",
       "      <td>1.213000</td>\n",
       "      <td>0.707000</td>\n",
       "      <td>0.142000</td>\n",
       "      <td>0.021000</td>\n",
       "      <td>5.770250</td>\n",
       "      <td>0.365000</td>\n",
       "      <td>1.041000</td>\n",
       "      <td>0.010000</td>\n",
       "      <td>3.000000</td>\n",
       "      <td>2.000000</td>\n",
       "      <td>5.000000</td>\n",
       "      <td>0.000000</td>\n",
       "    </tr>\n",
       "    <tr>\n",
       "      <th>50%</th>\n",
       "      <td>4.547000</td>\n",
       "      <td>1.393000</td>\n",
       "      <td>0.354000</td>\n",
       "      <td>0.040000</td>\n",
       "      <td>14.218000</td>\n",
       "      <td>0.706000</td>\n",
       "      <td>1.114000</td>\n",
       "      <td>1.011000</td>\n",
       "      <td>4.000000</td>\n",
       "      <td>3.000000</td>\n",
       "      <td>7.000000</td>\n",
       "      <td>0.000000</td>\n",
       "    </tr>\n",
       "    <tr>\n",
       "      <th>75%</th>\n",
       "      <td>12.139000</td>\n",
       "      <td>2.786000</td>\n",
       "      <td>0.720000</td>\n",
       "      <td>0.075000</td>\n",
       "      <td>25.118500</td>\n",
       "      <td>1.244000</td>\n",
       "      <td>1.263000</td>\n",
       "      <td>1.051000</td>\n",
       "      <td>5.000000</td>\n",
       "      <td>4.000000</td>\n",
       "      <td>9.000000</td>\n",
       "      <td>1.000000</td>\n",
       "    </tr>\n",
       "    <tr>\n",
       "      <th>max</th>\n",
       "      <td>51.333000</td>\n",
       "      <td>77.505000</td>\n",
       "      <td>19.601000</td>\n",
       "      <td>12.461000</td>\n",
       "      <td>140.008000</td>\n",
       "      <td>48.253000</td>\n",
       "      <td>2.915000</td>\n",
       "      <td>2.668000</td>\n",
       "      <td>12.000000</td>\n",
       "      <td>12.000000</td>\n",
       "      <td>23.000000</td>\n",
       "      <td>1.000000</td>\n",
       "    </tr>\n",
       "  </tbody>\n",
       "</table>\n",
       "</div>"
      ],
      "text/plain": [
       "         PRBUsageUL    PRBUsageDL    meanThr_DL    meanThr_UL     maxThr_DL  \\\n",
       "count  36798.000000  36798.000000  36798.000000  36798.000000  36798.000000   \n",
       "mean       7.857659      2.111301      0.562139      0.067804     17.815541   \n",
       "std        8.429824      2.248888      0.728047      0.186788     15.733641   \n",
       "min        0.000000      0.000000      0.000000      0.000000      0.000000   \n",
       "25%        1.213000      0.707000      0.142000      0.021000      5.770250   \n",
       "50%        4.547000      1.393000      0.354000      0.040000     14.218000   \n",
       "75%       12.139000      2.786000      0.720000      0.075000     25.118500   \n",
       "max       51.333000     77.505000     19.601000     12.461000    140.008000   \n",
       "\n",
       "          maxThr_UL     meanUE_DL     meanUE_UL      maxUE_DL      maxUE_UL  \\\n",
       "count  36798.000000  36798.000000  36798.000000  36709.000000  36709.000000   \n",
       "mean       1.797136      1.176601      0.667058      4.202702      3.072080   \n",
       "std        5.035245      0.205603      0.535073      1.761114      1.379887   \n",
       "min        0.000000      0.000000      0.000000      0.000000      0.000000   \n",
       "25%        0.365000      1.041000      0.010000      3.000000      2.000000   \n",
       "50%        0.706000      1.114000      1.011000      4.000000      3.000000   \n",
       "75%        1.244000      1.263000      1.051000      5.000000      4.000000   \n",
       "max       48.253000      2.915000      2.668000     12.000000     12.000000   \n",
       "\n",
       "        maxUE_UL+DL       Unusual  \n",
       "count  36709.000000  36798.000000  \n",
       "mean       7.274783      0.276645  \n",
       "std        3.032807      0.447346  \n",
       "min        0.000000      0.000000  \n",
       "25%        5.000000      0.000000  \n",
       "50%        7.000000      0.000000  \n",
       "75%        9.000000      1.000000  \n",
       "max       23.000000      1.000000  "
      ]
     },
     "execution_count": 12,
     "metadata": {},
     "output_type": "execute_result"
    }
   ],
   "source": [
    "df.describe()"
   ]
  },
  {
   "cell_type": "markdown",
   "id": "abf7b049",
   "metadata": {},
   "source": [
    "## Lets look at the variable we are trying to predict and see what kind of data it is."
   ]
  },
  {
   "cell_type": "code",
   "execution_count": 13,
   "id": "9a3d3d5c",
   "metadata": {},
   "outputs": [
    {
     "data": {
      "text/plain": [
       "array([1, 0])"
      ]
     },
     "execution_count": 13,
     "metadata": {},
     "output_type": "execute_result"
    }
   ],
   "source": [
    "df[\"Unusual\"].unique()"
   ]
  },
  {
   "cell_type": "markdown",
   "id": "b48e2337",
   "metadata": {},
   "source": [
    "It looks like our column has two values (Yes, No) coded as 1 and 0. This is a binary classification problem and so we can proceed with some classification algorithms in mind. "
   ]
  },
  {
   "cell_type": "markdown",
   "id": "cc11d8f7",
   "metadata": {},
   "source": [
    "# Remove outliers and Normalize dataset"
   ]
  },
  {
   "cell_type": "code",
   "execution_count": 14,
   "id": "bf9fe35c",
   "metadata": {},
   "outputs": [],
   "source": [
    "std_scaler = StandardScaler()\n",
    "# fit and transform the data\n",
    "df.iloc[:,3:13] = std_scaler.fit_transform(df.iloc[:,3:13])"
   ]
  },
  {
   "cell_type": "markdown",
   "id": "5b2ed096",
   "metadata": {},
   "source": [
    "# Balance Dataset"
   ]
  },
  {
   "cell_type": "code",
   "execution_count": 15,
   "id": "1ca3ca6c",
   "metadata": {},
   "outputs": [],
   "source": [
    "# Look to see if this dataset is unbalanced. \n",
    "cases = len(df)\n",
    "normal_count = len(df[df.Unusual== 0])\n",
    "unusual_count = len(df[df.Unusual == 1])\n",
    "unusual_percentage = round(unusual_count/cases*100, 2)"
   ]
  },
  {
   "cell_type": "code",
   "execution_count": 16,
   "id": "7bc4e08b",
   "metadata": {},
   "outputs": [
    {
     "name": "stdout",
     "output_type": "stream",
     "text": [
      "\u001b[1mUNUSUAL COUNT\u001b[0m\n",
      "\u001b[1m--------------------------------------------\u001b[0m\n",
      "\u001b[1mTotal number of cases are 36798\u001b[0m\n",
      "\u001b[1mNumber of Normal cases are 26618\u001b[0m\n",
      "\u001b[1mNumber of Unusual cases are 10180\u001b[0m\n",
      "\u001b[1mPercentage of unusual cases is 27.66\u001b[0m\n",
      "\u001b[1m--------------------------------------------\u001b[0m\n"
     ]
    }
   ],
   "source": [
    "print(cl('UNUSUAL COUNT', attrs = ['bold']))\n",
    "print(cl('--------------------------------------------', attrs = ['bold']))\n",
    "print(cl('Total number of cases are {}'.format(cases), attrs = ['bold']))\n",
    "print(cl('Number of Normal cases are {}'.format(normal_count), attrs = ['bold']))\n",
    "print(cl('Number of Unusual cases are {}'.format(unusual_count), attrs = ['bold']))\n",
    "print(cl('Percentage of unusual cases is {}'.format(unusual_percentage), attrs = ['bold']))\n",
    "print(cl('--------------------------------------------', attrs = ['bold']))"
   ]
  },
  {
   "cell_type": "markdown",
   "id": "178e1398",
   "metadata": {},
   "source": [
    "## Encode Labels"
   ]
  },
  {
   "cell_type": "code",
   "execution_count": 17,
   "id": "87c6f792",
   "metadata": {},
   "outputs": [],
   "source": [
    "# Encode labels to numeric\n",
    "labelencoder = LabelEncoder()\n",
    "df[\"Time\"] = labelencoder.fit_transform(df[\"Time\"])\n",
    "df[\"CellName\"] = labelencoder.fit_transform(df[\"CellName\"])"
   ]
  },
  {
   "cell_type": "markdown",
   "id": "53e75f67",
   "metadata": {},
   "source": [
    "# Imputation of Missing Values with Mean"
   ]
  },
  {
   "cell_type": "code",
   "execution_count": 18,
   "id": "5368de7f",
   "metadata": {},
   "outputs": [],
   "source": [
    "df = df.fillna(df.mean())"
   ]
  },
  {
   "cell_type": "markdown",
   "id": "3eee37d2",
   "metadata": {},
   "source": [
    "# Feature Selection and Data Split"
   ]
  },
  {
   "cell_type": "code",
   "execution_count": null,
   "id": "ef21ed39",
   "metadata": {},
   "outputs": [],
   "source": []
  },
  {
   "cell_type": "code",
   "execution_count": 19,
   "id": "76099aa6",
   "metadata": {},
   "outputs": [],
   "source": [
    "# Fill NaN values with zero. Might have to try different values here.\n",
    "# df.fillna(0, inplace=True)\n",
    "\n",
    "\n",
    "X = df.drop('Unusual', axis = 1).values\n",
    "y = df['Unusual'].values\n",
    "\n",
    "X_train, X_test, y_train, y_test = train_test_split(X, y, test_size = 0.2, random_state = 1)\n",
    "\n",
    "# print(cl('X_train samples : ', attrs = ['bold']), X_train[:1])\n",
    "# print(cl('X_test samples : ', attrs = ['bold']), X_test[0:1])\n",
    "# print(cl('y_train samples : ', attrs = ['bold']), y_train[0:20])\n",
    "# print(cl('y_test samples : ', attrs = ['bold']), y_test[0:20])"
   ]
  },
  {
   "cell_type": "markdown",
   "id": "b92b07fd",
   "metadata": {},
   "source": [
    "Here we encode our string values into numerical datatypes.\n",
    "We also replace nan with 0.\n",
    "Create test and train sets."
   ]
  },
  {
   "cell_type": "markdown",
   "id": "3cdfdd24",
   "metadata": {},
   "source": [
    "# MODELING"
   ]
  },
  {
   "cell_type": "code",
   "execution_count": 20,
   "id": "9ea733a0",
   "metadata": {},
   "outputs": [],
   "source": [
    "# 1. Decision Tree\n",
    "\n",
    "tree_model = DecisionTreeClassifier(max_depth = 4, criterion = 'entropy')\n",
    "tree_model.fit(X_train, y_train)\n",
    "tree_yhat = tree_model.predict(X_test)\n",
    "# print(\"score on test: \" + str(tree_model.score(X_test, y_test)))\n",
    "# print(\"score on train: \"+ str(tree_model.score(X_train, y_train)))"
   ]
  },
  {
   "cell_type": "code",
   "execution_count": 21,
   "id": "28adb7f8",
   "metadata": {},
   "outputs": [],
   "source": [
    "# 2. K-Nearest Neighbors\n",
    "\n",
    "n = 5\n",
    "\n",
    "knn = KNeighborsClassifier(n_neighbors = n)\n",
    "knn.fit(X_train, y_train)\n",
    "knn_yhat = knn.predict(X_test)\n",
    "# print(\"score on test: \" + str(knn.score(X_test, y_test)))\n",
    "# print(\"score on train: \"+ str(knn.score(X_train, y_train)))"
   ]
  },
  {
   "cell_type": "code",
   "execution_count": 22,
   "id": "6a736476",
   "metadata": {},
   "outputs": [],
   "source": [
    "# 3. Logistic Regression\n",
    "\n",
    "lr = LogisticRegression(solver='lbfgs', max_iter=1000)\n",
    "lr.fit(X_train, y_train)\n",
    "lr_yhat = lr.predict(X_test)\n",
    "# print(\"score on test: \" + str(lr.score(X_test, y_test)))\n",
    "# print(\"score on train: \"+ str(lr.score(X_train, y_train)))"
   ]
  },
  {
   "cell_type": "code",
   "execution_count": 23,
   "id": "a52accf3",
   "metadata": {},
   "outputs": [],
   "source": [
    "# # 4. SVM \n",
    "\n",
    "\n",
    "# svm = SVC()\n",
    "# svm.fit(X_train, y_train)\n",
    "# svm_yhat = svm.predict(X_test)"
   ]
  },
  {
   "cell_type": "code",
   "execution_count": 24,
   "id": "50384216",
   "metadata": {},
   "outputs": [],
   "source": [
    "# 5. Random Forest Tree\n",
    "\n",
    "rf = RandomForestClassifier(max_depth = 4)\n",
    "rf.fit(X_train, y_train)\n",
    "rf_yhat = rf.predict(X_test)"
   ]
  },
  {
   "cell_type": "code",
   "execution_count": 25,
   "id": "5cd2d5d3",
   "metadata": {},
   "outputs": [
    {
     "name": "stdout",
     "output_type": "stream",
     "text": [
      "[17:55:46] WARNING: /opt/concourse/worker/volumes/live/7a2b9f41-3287-451b-6691-43e9a6c0910f/volume/xgboost-split_1619728204606/work/src/learner.cc:1061: Starting in XGBoost 1.3.0, the default evaluation metric used with the objective 'binary:logistic' was changed from 'error' to 'logloss'. Explicitly set eval_metric if you'd like to restore the old behavior.\n"
     ]
    }
   ],
   "source": [
    "# 6. XGBoost\n",
    "#Gradient boosting is an approach where new models are created that predict the residuals or errors of prior models and then \n",
    "# added together to make the final prediction. It is called gradient boosting because it uses a gradient descent algorithm to minimize the loss when adding new models.\n",
    "\n",
    "xgb = XGBClassifier(max_depth = 4, use_label_encoder=False)\n",
    "xgb.fit(X_train, y_train)\n",
    "xgb_yhat = xgb.predict(X_test)"
   ]
  },
  {
   "cell_type": "markdown",
   "id": "26007722",
   "metadata": {},
   "source": [
    "# Results "
   ]
  },
  {
   "cell_type": "markdown",
   "id": "3814f28a",
   "metadata": {},
   "source": [
    "### Accuracy"
   ]
  },
  {
   "cell_type": "code",
   "execution_count": 26,
   "id": "a8cf3659",
   "metadata": {},
   "outputs": [
    {
     "name": "stdout",
     "output_type": "stream",
     "text": [
      "\u001b[1mACCURACY SCORE\u001b[0m\n",
      "\u001b[1m--------------------------------------------------\u001b[0m\n",
      "\u001b[1mDecision Tree = 0.8362771739130435\u001b[0m\n",
      "\u001b[1m--------------------------------------------------\u001b[0m\n",
      "\u001b[1mKNN = 0.7501358695652174\u001b[0m\n",
      "\u001b[1m--------------------------------------------------\u001b[0m\n",
      "\u001b[1m\u001b[31mLogistic Regression = 0.7283967391304348\u001b[0m\n",
      "\u001b[1m--------------------------------------------------\u001b[0m\n",
      "\u001b[1mRandom Forest Tree = 0.8213315217391305\u001b[0m\n",
      "\u001b[1m--------------------------------------------------\u001b[0m\n",
      "\u001b[1m\u001b[32mXGBoost = 0.9811141304347826\u001b[0m\n",
      "\u001b[1m--------------------------------------------------\u001b[0m\n"
     ]
    }
   ],
   "source": [
    "# 1. Accuracy score\n",
    "\n",
    "print(cl('ACCURACY SCORE', attrs = ['bold']))\n",
    "print(cl('--------------------------------------------------', attrs = ['bold']))\n",
    "print(cl('Decision Tree = {}'.format(accuracy_score(y_test, tree_yhat)), attrs = ['bold']))\n",
    "print(cl('--------------------------------------------------', attrs = ['bold']))\n",
    "print(cl('KNN = {}'.format(accuracy_score(y_test, knn_yhat)), attrs = ['bold']))\n",
    "print(cl('--------------------------------------------------', attrs = ['bold']))\n",
    "print(cl('Logistic Regression = {}'.format(accuracy_score(y_test, lr_yhat)), attrs = ['bold'], color = 'red'))\n",
    "print(cl('--------------------------------------------------', attrs = ['bold']))\n",
    "# print(cl('Accuracy score of the SVM model is {}'.format(accuracy_score(y_test, svm_yhat)), attrs = ['bold']))\n",
    "# print(cl('------------------------------------------------------------------------', attrs = ['bold']))\n",
    "print(cl('Random Forest Tree = {}'.format(accuracy_score(y_test, rf_yhat)), attrs = ['bold']))\n",
    "print(cl('--------------------------------------------------', attrs = ['bold']))\n",
    "print(cl('XGBoost = {}'.format(accuracy_score(y_test, xgb_yhat)), attrs = ['bold'], color = 'green'))\n",
    "print(cl('--------------------------------------------------', attrs = ['bold']))\n"
   ]
  },
  {
   "cell_type": "markdown",
   "id": "5ece355e",
   "metadata": {},
   "source": [
    "So a random forest is an ensemble method, which means it is collection of numerous decision trees that are taken in parralel and then the output of each tree is summarized to give one single output."
   ]
  },
  {
   "cell_type": "markdown",
   "id": "d6ded8be",
   "metadata": {},
   "source": [
    "XGboost is also an ensemble, but the reason that it is so powerful is because rather than just combining the isolated classifiers, it uses the mechanism of uplifting the weights of misclassified data points in the preceding classifiers."
   ]
  },
  {
   "cell_type": "markdown",
   "id": "619293d8",
   "metadata": {},
   "source": [
    "### Recall"
   ]
  },
  {
   "cell_type": "code",
   "execution_count": 27,
   "id": "f365001e",
   "metadata": {
    "scrolled": true
   },
   "outputs": [
    {
     "name": "stdout",
     "output_type": "stream",
     "text": [
      "\u001b[1mRECALL SCORE\u001b[0m\n",
      "\u001b[1m--------------------------------------------------\u001b[0m\n",
      "\u001b[1mDecision Tree = 0.4\u001b[0m\n",
      "\u001b[1m--------------------------------------------------\u001b[0m\n",
      "\u001b[1mKNN = 0.342713567839196\u001b[0m\n",
      "\u001b[1m--------------------------------------------------\u001b[0m\n",
      "\u001b[1mLogistic Regression = 0.007035175879396985\u001b[0m\n",
      "\u001b[1m--------------------------------------------------\u001b[0m\n",
      "\u001b[1mRandom Forest Tree = 0.34522613065326635\u001b[0m\n",
      "\u001b[1m--------------------------------------------------\u001b[0m\n",
      "\u001b[1m\u001b[32mXGBoost = 0.9326633165829146\u001b[0m\n",
      "\u001b[1m--------------------------------------------------\u001b[0m\n"
     ]
    }
   ],
   "source": [
    "\n",
    "# 2. Recall score\n",
    "#The recall is the ratio tp / (tp + fn) where tp is the number of true positives and fn the number of false negatives. \n",
    "# The recall is intuitively the ability of the classifier to find all the positive samples.\n",
    "\n",
    "print(cl('RECALL SCORE', attrs = ['bold']))\n",
    "print(cl('--------------------------------------------------', attrs = ['bold']))\n",
    "print(cl('Decision Tree = {}'.format(recall_score(y_test, tree_yhat)), attrs = ['bold']))\n",
    "print(cl('--------------------------------------------------', attrs = ['bold']))\n",
    "print(cl('KNN = {}'.format(recall_score(y_test, knn_yhat)), attrs = ['bold']))\n",
    "print(cl('--------------------------------------------------', attrs = ['bold']))\n",
    "print(cl('Logistic Regression = {}'.format(recall_score(y_test, lr_yhat)), attrs = ['bold']))\n",
    "print(cl('--------------------------------------------------', attrs = ['bold']))\n",
    "# print(cl('Recall score of the SVM model is {}'.format(recall_score(y_test, svm_yhat)), attrs = ['bold'], color = 'red'))\n",
    "# print(cl('------------------------------------------------------------------------', attrs = ['bold']))\n",
    "print(cl('Random Forest Tree = {}'.format(recall_score(y_test, rf_yhat)), attrs = ['bold']))\n",
    "print(cl('--------------------------------------------------', attrs = ['bold']))\n",
    "print(cl('XGBoost = {}'.format(recall_score(y_test, xgb_yhat)), attrs = ['bold'], color = 'green'))\n",
    "print(cl('--------------------------------------------------', attrs = ['bold']))\n"
   ]
  },
  {
   "cell_type": "markdown",
   "id": "ddaebf3f",
   "metadata": {},
   "source": [
    "### Precision"
   ]
  },
  {
   "cell_type": "code",
   "execution_count": 28,
   "id": "6ca2fa99",
   "metadata": {},
   "outputs": [
    {
     "name": "stdout",
     "output_type": "stream",
     "text": [
      "\u001b[1mPRECISION SCORE\u001b[0m\n",
      "\u001b[1m--------------------------------------------------\u001b[0m\n",
      "\u001b[1mDecision Tree = 0.9863692688971499\u001b[0m\n",
      "\u001b[1m--------------------------------------------------\u001b[0m\n",
      "\u001b[1mKNN = 0.562242374278648\u001b[0m\n",
      "\u001b[1m--------------------------------------------------\u001b[0m\n",
      "\u001b[1mLogistic Regression = 0.3783783783783784\u001b[0m\n",
      "\u001b[1m--------------------------------------------------\u001b[0m\n",
      "\u001b[1mRandom Forest Tree = 0.9828326180257511\u001b[0m\n",
      "\u001b[1m--------------------------------------------------\u001b[0m\n",
      "\u001b[1m\u001b[32mXGBoost = 0.9973132724341752\u001b[0m\n",
      "\u001b[1m--------------------------------------------------\u001b[0m\n"
     ]
    }
   ],
   "source": [
    "\n",
    "# 3. Precision score\n",
    "\n",
    "\n",
    "print(cl('PRECISION SCORE', attrs = ['bold']))\n",
    "print(cl('--------------------------------------------------', attrs = ['bold']))\n",
    "print(cl('Decision Tree = {}'.format(precision_score(y_test, tree_yhat)), attrs = ['bold']))\n",
    "print(cl('--------------------------------------------------', attrs = ['bold']))\n",
    "print(cl('KNN = {}'.format(precision_score(y_test, knn_yhat)), attrs = ['bold']))\n",
    "print(cl('--------------------------------------------------', attrs = ['bold']))\n",
    "print(cl('Logistic Regression = {}'.format(precision_score(y_test, lr_yhat)), attrs = ['bold']))\n",
    "print(cl('--------------------------------------------------', attrs = ['bold']))\n",
    "# print(cl('Precision score of the SVM model is {}'.format(precision_score(y_test, svm_yhat)), attrs = ['bold'], color = 'red'))\n",
    "# print(cl('------------------------------------------------------------------------', attrs = ['bold']))\n",
    "print(cl('Random Forest Tree = {}'.format(precision_score(y_test, rf_yhat)), attrs = ['bold']))\n",
    "print(cl('--------------------------------------------------', attrs = ['bold']))\n",
    "print(cl('XGBoost = {}'.format(precision_score(y_test, xgb_yhat)), attrs = ['bold'], color = 'green'))\n",
    "print(cl('--------------------------------------------------', attrs = ['bold']))\n"
   ]
  },
  {
   "cell_type": "code",
   "execution_count": 29,
   "id": "8a7d4f7f",
   "metadata": {},
   "outputs": [
    {
     "name": "stdout",
     "output_type": "stream",
     "text": [
      "\u001b[1mF1 SCORE\u001b[0m\n",
      "\u001b[1m------------------------------------------------------------------------\u001b[0m\n",
      "\u001b[1mF1 score of the Decision Tree model is 0.569181265641759\u001b[0m\n",
      "\u001b[1m------------------------------------------------------------------------\u001b[0m\n",
      "\u001b[1mF1 score of the KNN model is 0.42585076490789886\u001b[0m\n",
      "\u001b[1m------------------------------------------------------------------------\u001b[0m\n",
      "\u001b[1mF1 score of the Logistic Regression model is 0.013813517513566848\u001b[0m\n",
      "\u001b[1m------------------------------------------------------------------------\u001b[0m\n",
      "\u001b[1mF1 score of the Random Forest Tree model is 0.510970621048717\u001b[0m\n",
      "\u001b[1m------------------------------------------------------------------------\u001b[0m\n",
      "\u001b[1m\u001b[32mF1 score of the XGBoost model is 0.9639054790963387\u001b[0m\n",
      "\u001b[1m------------------------------------------------------------------------\u001b[0m\n"
     ]
    }
   ],
   "source": [
    "\n",
    "# 4. F1 score\n",
    "\n",
    "print(cl('F1 SCORE', attrs = ['bold']))\n",
    "print(cl('------------------------------------------------------------------------', attrs = ['bold']))\n",
    "print(cl('F1 score of the Decision Tree model is {}'.format(f1_score(y_test, tree_yhat)), attrs = ['bold']))\n",
    "print(cl('------------------------------------------------------------------------', attrs = ['bold']))\n",
    "print(cl('F1 score of the KNN model is {}'.format(f1_score(y_test, knn_yhat)), attrs = ['bold']))\n",
    "print(cl('------------------------------------------------------------------------', attrs = ['bold']))\n",
    "print(cl('F1 score of the Logistic Regression model is {}'.format(f1_score(y_test, lr_yhat)), attrs = ['bold']))\n",
    "print(cl('------------------------------------------------------------------------', attrs = ['bold']))\n",
    "# print(cl('F1 score of the SVM model is {}'.format(f1_score(y_test, svm_yhat)), attrs = ['bold'], color = 'red'))\n",
    "# print(cl('------------------------------------------------------------------------', attrs = ['bold']))\n",
    "print(cl('F1 score of the Random Forest Tree model is {}'.format(f1_score(y_test, rf_yhat)), attrs = ['bold']))\n",
    "print(cl('------------------------------------------------------------------------', attrs = ['bold']))\n",
    "print(cl('F1 score of the XGBoost model is {}'.format(f1_score(y_test, xgb_yhat)), attrs = ['bold'], color = 'green'))\n",
    "print(cl('------------------------------------------------------------------------', attrs = ['bold']))\n"
   ]
  },
  {
   "cell_type": "code",
   "execution_count": 30,
   "id": "7495537a",
   "metadata": {},
   "outputs": [
    {
     "data": {
      "image/png": "[encoded data removed]",
      "text/plain": [
       "<Figure size 432x432 with 2 Axes>"
      ]
     },
     "metadata": {
      "needs_background": "light"
     },
     "output_type": "display_data"
    },
    {
     "data": {
      "image/png": "[encoded data removed]",
      "text/plain": [
       "<Figure size 432x432 with 2 Axes>"
      ]
     },
     "metadata": {
      "needs_background": "light"
     },
     "output_type": "display_data"
    },
    {
     "data": {
      "image/png": "[encoded data removed]",
      "text/plain": [
       "<Figure size 432x432 with 2 Axes>"
      ]
     },
     "metadata": {
      "needs_background": "light"
     },
     "output_type": "display_data"
    },
    {
     "data": {
      "image/png": "[encoded data removed]",
      "text/plain": [
       "<Figure size 432x432 with 2 Axes>"
      ]
     },
     "metadata": {
      "needs_background": "light"
     },
     "output_type": "display_data"
    },
    {
     "data": {
      "image/png": "[encoded data removed]",
      "text/plain": [
       "<Figure size 432x432 with 2 Axes>"
      ]
     },
     "metadata": {
      "needs_background": "light"
     },
     "output_type": "display_data"
    }
   ],
   "source": [
    "# 3. Confusion Matrix\n",
    "\n",
    "# defining the plot function\n",
    "\n",
    "def plot_confusion_matrix(cm, classes, title, normalize = False, cmap = plt.cm.Blues):\n",
    "    title = 'Confusion Matrix of {}'.format(title)\n",
    "    if normalize:\n",
    "        cm = cm.astype(float) / cm.sum(axis=1)[:, np.newaxis]\n",
    "\n",
    "    plt.imshow(cm, interpolation = 'nearest', cmap = cmap)\n",
    "    plt.title(title)\n",
    "    plt.colorbar()\n",
    "    tick_marks = np.arange(len(classes))\n",
    "    plt.xticks(tick_marks, classes, rotation = 45)\n",
    "    plt.yticks(tick_marks, classes)\n",
    "\n",
    "    fmt = '.2f' if normalize else 'd'\n",
    "    thresh = cm.max() / 2.\n",
    "    for i, j in itertools.product(range(cm.shape[0]), range(cm.shape[1])):\n",
    "        plt.text(j, i, format(cm[i, j], fmt),\n",
    "                 horizontalalignment = 'center',\n",
    "                 color = 'white' if cm[i, j] > thresh else 'black')\n",
    "\n",
    "    plt.tight_layout()\n",
    "    plt.ylabel('True label')\n",
    "    plt.xlabel('Predicted label')\n",
    "\n",
    "# Compute confusion matrix for the models\n",
    "\n",
    "tree_matrix = confusion_matrix(y_test, tree_yhat, labels = [0, 1]) # Decision Tree\n",
    "knn_matrix = confusion_matrix(y_test, knn_yhat, labels = [0, 1]) # K-Nearest Neighbors\n",
    "lr_matrix = confusion_matrix(y_test, lr_yhat, labels = [0, 1]) # Logistic Regression\n",
    "# svm_matrix = confusion_matrix(y_test, svm_yhat, labels = [0, 1]) # Support Vector Machine\n",
    "rf_matrix = confusion_matrix(y_test, rf_yhat, labels = [0, 1]) # Random Forest Tree\n",
    "xgb_matrix = confusion_matrix(y_test, xgb_yhat, labels = [0, 1]) # XGBoost\n",
    "\n",
    "# Plot the confusion matrix\n",
    "\n",
    "plt.rcParams['figure.figsize'] = (6, 6)\n",
    "\n",
    "# 1. Decision tree\n",
    "\n",
    "tree_cm_plot = plot_confusion_matrix(tree_matrix, \n",
    "                                classes = ['Usual(0)','Unusual(1)'], \n",
    "                                normalize = False, title = 'Decision Tree')\n",
    "plt.savefig('tree_cm_plot.png')\n",
    "plt.show()\n",
    "\n",
    "# 2. K-Nearest Neighbors\n",
    "\n",
    "knn_cm_plot = plot_confusion_matrix(knn_matrix, \n",
    "                                classes = ['Usual(0)','Unusual(1)'], \n",
    "                                normalize = False, title = 'KNN')\n",
    "plt.savefig('knn_cm_plot.png')\n",
    "plt.show()\n",
    "\n",
    "# 3. Logistic regression\n",
    "\n",
    "lr_cm_plot = plot_confusion_matrix(lr_matrix, \n",
    "                                classes = ['Usual(0)','Unusual(1)'], \n",
    "                                normalize = False, title = 'Logistic Regression')\n",
    "plt.savefig('lr_cm_plot.png')\n",
    "plt.show()\n",
    "\n",
    "\n",
    "# 5. Random forest tree\n",
    "\n",
    "rf_cm_plot = plot_confusion_matrix(rf_matrix, \n",
    "                                classes = ['Usual(0)','Unusual(1)'], \n",
    "                                normalize = False, title = 'Random Forest Tree')\n",
    "plt.savefig('rf_cm_plot.png')\n",
    "plt.show()\n",
    "\n",
    "# # 6. XGBoost\n",
    "\n",
    "xgb_cm_plot = plot_confusion_matrix(xgb_matrix, \n",
    "                                classes = ['Usual(0)','Unusual(1)'], \n",
    "                                normalize = False, title = 'XGBoost')\n",
    "plt.savefig('xgb_cm_plot.png')\n",
    "plt.show()"
   ]
  },
  {
   "cell_type": "markdown",
   "id": "bc5f108f",
   "metadata": {},
   "source": [
    "The XGBoost algorithm, short for Extreme Gradient Boosting, is simply an improvised version of the gradient boosting algorithm, and the working procedure of both is almost the same. One crucial point in XGBoost is that it implements parallel processing at the node level, making it more powerful and fast than the gradient boosting algorithm. XGBoost reduces overfitting and improves overall performance by including various regularization techniques by setting the hyperparameters of the XGBoost algorithm.\n",
    "\n"
   ]
  }
 ],
 "metadata": {
  "kernelspec": {
   "display_name": "Python 3",
   "language": "python",
   "name": "python3"
  },
  "language_info": {
   "codemirror_mode": {
    "name": "ipython",
    "version": 3
   },
   "file_extension": ".py",
   "mimetype": "text/x-python",
   "name": "python",
   "nbconvert_exporter": "python",
   "pygments_lexer": "ipython3",
   "version": "3.7.10"
  }
 },
 "nbformat": 4,
 "nbformat_minor": 5
}
